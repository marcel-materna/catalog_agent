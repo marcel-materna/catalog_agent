{
 "cells": [
  {
   "cell_type": "code",
   "execution_count": 6,
   "id": "ffd18a7c",
   "metadata": {},
   "outputs": [
    {
     "name": "stdout",
     "output_type": "stream",
     "text": [
      "3.13.0 (main, Oct 16 2024, 00:33:24) [MSC v.1929 64 bit (AMD64)]\n",
      "3.46.0\n"
     ]
    },
    {
     "data": {
      "text/plain": [
       "<sqlite3.Connection at 0x1d29fbbb3d0>"
      ]
     },
     "execution_count": 6,
     "metadata": {},
     "output_type": "execute_result"
    }
   ],
   "source": [
    "# Use built-in sqlite3; no pip install needed\n",
    "import sqlite3, sys\n",
    "\n",
    "print(sys.version)                  # Python version\n",
    "print(sqlite3.sqlite_version)       # Linked SQLite version\n",
    "\n",
    "con = sqlite3.connect(\":memory:\")\n",
    "con"
   ]
  },
  {
   "cell_type": "code",
   "execution_count": 8,
   "id": "31d7f97b",
   "metadata": {},
   "outputs": [
    {
     "name": "stdout",
     "output_type": "stream",
     "text": [
      "CWD: c:\\Projekte\\fedcatalog_agent\\catalog_agent\\tests\n",
      "JSON: C:\\Projekte\\fedcatalog_agent\\catalog_agent\\data\\mock_energy_metadata.json\n",
      "DB  : C:\\Projekte\\fedcatalog_agent\\catalog_agent\\data\\metadata.sqlite\n",
      "Import fertig: C:\\Projekte\\fedcatalog_agent\\catalog_agent\\data\\metadata.sqlite\n"
     ]
    }
   ],
   "source": [
    "# Robustly locate mock_energy_metadata.json and load into SQLite (no pysqlite3 needed)\n",
    "import sqlite3, json\n",
    "from pathlib import Path\n",
    "\n",
    "print(\"CWD:\", Path.cwd())\n",
    "\n",
    "def find_json():\n",
    "    # Try common locations relative to notebook start dir\n",
    "    candidates = [\n",
    "        Path(\"catalog_agent/data/mock_energy_metadata.json\"),\n",
    "        Path(\"data/mock_energy_metadata.json\"),\n",
    "        Path(\"../data/mock_energy_metadata.json\"),\n",
    "        Path(\"../../catalog_agent/data/mock_energy_metadata.json\"),\n",
    "    ]\n",
    "    for p in candidates:\n",
    "        if p.exists():\n",
    "            return p.resolve()\n",
    "    raise FileNotFoundError(\"mock_energy_metadata.json not found. Checked:\\n\" + \"\\n\".join(str(p) for p in candidates))\n",
    "\n",
    "json_path = find_json()\n",
    "db_path = json_path.parent / \"metadata.sqlite\"\n",
    "print(\"JSON:\", json_path)\n",
    "print(\"DB  :\", db_path)\n",
    "\n",
    "records = json.loads(json_path.read_text(encoding=\"utf-8\"))\n",
    "\n",
    "con = sqlite3.connect(db_path)\n",
    "con.execute(\"PRAGMA foreign_keys = ON\")\n",
    "\n",
    "con.execute(\"\"\"\n",
    "CREATE TABLE IF NOT EXISTS energy_metadata (\n",
    "    dataset_id TEXT PRIMARY KEY,\n",
    "    title TEXT,\n",
    "    description TEXT,\n",
    "    publisher TEXT,\n",
    "    source_system TEXT,\n",
    "    data_category TEXT,\n",
    "    granularity TEXT,\n",
    "    geographical_scope TEXT,\n",
    "    temporal_coverage_start TEXT,\n",
    "    temporal_coverage_end TEXT,\n",
    "    format TEXT,\n",
    "    size_mb REAL,\n",
    "    update_frequency TEXT,\n",
    "    license TEXT,\n",
    "    created_at TEXT,\n",
    "    last_modified TEXT,\n",
    "    contact TEXT,\n",
    "    keywords_json TEXT,\n",
    "    quality_score REAL\n",
    ")\n",
    "\"\"\")\n",
    "\n",
    "rows = []\n",
    "for r in records:\n",
    "    rows.append((\n",
    "        r.get(\"dataset_id\"),\n",
    "        r.get(\"title\"),\n",
    "        r.get(\"description\"),\n",
    "        r.get(\"publisher\"),\n",
    "        r.get(\"source_system\"),\n",
    "        r.get(\"data_category\"),\n",
    "        r.get(\"granularity\"),\n",
    "        r.get(\"geographical_scope\"),\n",
    "        r.get(\"temporal_coverage_start\"),\n",
    "        r.get(\"temporal_coverage_end\"),\n",
    "        r.get(\"format\"),\n",
    "        r.get(\"size_mb\"),\n",
    "        r.get(\"update_frequency\"),\n",
    "        r.get(\"license\"),\n",
    "        r.get(\"created_at\"),\n",
    "        r.get(\"last_modified\"),\n",
    "        r.get(\"contact\"),\n",
    "        json.dumps(r.get(\"keywords\", []), ensure_ascii=False),\n",
    "        r.get(\"quality_score\"),\n",
    "    ))\n",
    "\n",
    "con.executemany(\"\"\"\n",
    "INSERT INTO energy_metadata (\n",
    "  dataset_id,title,description,publisher,source_system,data_category,granularity,geographical_scope,\n",
    "  temporal_coverage_start,temporal_coverage_end,format,size_mb,update_frequency,license,\n",
    "  created_at,last_modified,contact,keywords_json,quality_score\n",
    ") VALUES (?,?,?,?,?,?,?,?,?,?,?,?,?,?,?,?,?,?,?)\n",
    "ON CONFLICT(dataset_id) DO UPDATE SET\n",
    "  title=excluded.title,\n",
    "  description=excluded.description,\n",
    "  publisher=excluded.publisher,\n",
    "  source_system=excluded.source_system,\n",
    "  data_category=excluded.data_category,\n",
    "  granularity=excluded.granularity,\n",
    "  geographical_scope=excluded.geographical_scope,\n",
    "  temporal_coverage_start=excluded.temporal_coverage_start,\n",
    "  temporal_coverage_end=excluded.temporal_coverage_end,\n",
    "  format=excluded.format,\n",
    "  size_mb=excluded.size_mb,\n",
    "  update_frequency=excluded.update_frequency,\n",
    "  license=excluded.license,\n",
    "  created_at=excluded.created_at,\n",
    "  last_modified=excluded.last_modified,\n",
    "  contact=excluded.contact,\n",
    "  keywords_json=excluded.keywords_json,\n",
    "  quality_score=excluded.quality_score\n",
    "\"\"\", rows)\n",
    "\n",
    "con.execute(\"\"\"\n",
    "CREATE TABLE IF NOT EXISTS energy_keyword (\n",
    "    dataset_id TEXT NOT NULL,\n",
    "    keyword TEXT NOT NULL,\n",
    "    PRIMARY KEY (dataset_id, keyword),\n",
    "    FOREIGN KEY (dataset_id) REFERENCES energy_metadata(dataset_id) ON DELETE CASCADE\n",
    ")\n",
    "\"\"\")\n",
    "\n",
    "kw_rows = []\n",
    "for r in records:\n",
    "    did = r.get(\"dataset_id\")\n",
    "    for kw in r.get(\"keywords\", []) or []:\n",
    "        kw_rows.append((did, kw))\n",
    "con.executemany(\"INSERT OR IGNORE INTO energy_keyword (dataset_id, keyword) VALUES (?,?)\", kw_rows)\n",
    "\n",
    "con.commit()\n",
    "con.close()\n",
    "print(\"Import fertig:\", db_path)"
   ]
  },
  {
   "cell_type": "code",
   "execution_count": 10,
   "id": "016cee8f",
   "metadata": {},
   "outputs": [
    {
     "name": "stdout",
     "output_type": "stream",
     "text": [
      "     n\n",
      "0  100\n",
      "    dataset_id                     title\n",
      "0  energy_0001         Ladedaten BW 2023\n",
      "1  energy_0002   Verbrauchsdaten SN 2023\n",
      "2  energy_0003   Speicherstatus NRW 2023\n",
      "3  energy_0004         Ladedaten SH 2023\n",
      "4  energy_0005  Verbrauchsdaten NRW 2022\n"
     ]
    }
   ],
   "source": [
    "import sqlite3, pandas as pd\n",
    "con = sqlite3.connect(str((Path(\"C:/Projekte/fedcatalog_agent/catalog_agent/data/mock_energy_metadata.json\").resolve().parent / \"metadata.sqlite\")))\n",
    "print(pd.read_sql_query(\"SELECT COUNT(*) AS n FROM energy_metadata\", con))\n",
    "print(pd.read_sql_query(\"SELECT dataset_id, title FROM energy_metadata ORDER BY dataset_id LIMIT 5\", con))\n",
    "con.close()"
   ]
  }
 ],
 "metadata": {
  "kernelspec": {
   "display_name": ".venv",
   "language": "python",
   "name": "python3"
  },
  "language_info": {
   "codemirror_mode": {
    "name": "ipython",
    "version": 3
   },
   "file_extension": ".py",
   "mimetype": "text/x-python",
   "name": "python",
   "nbconvert_exporter": "python",
   "pygments_lexer": "ipython3",
   "version": "3.13.0"
  }
 },
 "nbformat": 4,
 "nbformat_minor": 5
}
